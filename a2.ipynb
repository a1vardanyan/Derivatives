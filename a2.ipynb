{
 "cells": [
  {
   "cell_type": "markdown",
   "id": "f25a7f70",
   "metadata": {},
   "source": [
    "#### BSM with lognormal underlying"
   ]
  },
  {
   "cell_type": "code",
   "execution_count": 9,
   "id": "ce47b202",
   "metadata": {},
   "outputs": [],
   "source": [
    "import numpy as np\n",
    "from scipy.stats import norm\n",
    "N = norm.cdf\n",
    "\n",
    "def d1(S, K, T, r, q, sigma):\n",
    "    return (np.log(S/K) + (r - q + sigma**2/2)*T) / (sigma*np.sqrt(T))\n",
    "\n",
    "def d2(S, K, T, r, q, sigma):\n",
    "    return d1(S, K, T, r, q, sigma) - sigma* np.sqrt(T)\n",
    "\n",
    "def bs_call(S, K, T, r, q, sigma):\n",
    "    d1_ = d1(S, K, T, r, q, sigma)\n",
    "    d2_ = d2(S, K, T, r, q, sigma)\n",
    "    return S*np.exp(-q*T) * N(d1_) - K * np.exp(-r*T)* N(d2_)\n",
    "\n",
    "def bs_put(S, K, T, r, q, sigma):\n",
    "    d1_ = d1(S, K, T, r, q, sigma)\n",
    "    d2_ = d2(S, K, T, r, q, sigma)\n",
    "    return K*np.exp(-r*T)*N(-d2_) - S*np.exp(-q*T)*N(-d1_)"
   ]
  },
  {
   "cell_type": "markdown",
   "id": "b16c1e0d",
   "metadata": {},
   "source": [
    "#### 1. Binary Option Pricing & Replication"
   ]
  },
  {
   "cell_type": "code",
   "execution_count": 10,
   "id": "1c8dad81",
   "metadata": {},
   "outputs": [],
   "source": [
    "T = 1.0\n",
    "sigma_atm = 0.25\n",
    "r = 3.00/100\n",
    "y = 1.30/100\n",
    "S0 = 3900\n",
    "def iv_approx(sigma_atm, S,K):\n",
    "    return sigma_atm + 0.28*np.log(S/K)"
   ]
  },
  {
   "cell_type": "markdown",
   "id": "8490bafd",
   "metadata": {},
   "source": [
    "#### a. Value in the Black-Scholes-Merton world (vol = 25% for any K).\n",
    "#### i. vanilla ATM call, ii. CoNC 1 USD if ST >= S0, iii. AoNC"
   ]
  },
  {
   "cell_type": "code",
   "execution_count": 15,
   "id": "4aee6278",
   "metadata": {},
   "outputs": [
    {
     "name": "stdout",
     "output_type": "stream",
     "text": [
      "413.0380574390672\n"
     ]
    }
   ],
   "source": [
    "#i\n",
    "print(bs_call(S=S0, K=S0, T=T, r=r, q=y, sigma=sigma_atm))"
   ]
  },
  {
   "cell_type": "code",
   "execution_count": 21,
   "id": "f46a657c",
   "metadata": {},
   "outputs": [
    {
     "name": "stdout",
     "output_type": "stream",
     "text": [
      "0.46316706059824453\n"
     ]
    }
   ],
   "source": [
    "#ii CoNC\n",
    "def CoNC(S, K, T, r, q, sigma):\n",
    "    d2_ = d2(S, K, T, r, q, sigma)\n",
    "    return np.exp(-r*T)* N(d2_)\n",
    "#PV of CoNC\n",
    "print(CoNC(S=S0, K=S0, T=T, r=r, q=y, sigma=sigma_atm))"
   ]
  },
  {
   "cell_type": "markdown",
   "id": "0ff292b9",
   "metadata": {},
   "source": [
    "#### The reason of why CoNC << 0.5 is mainly not due to discounting. As can be seen it is due to lognormality: downside is more probable than upside."
   ]
  },
  {
   "cell_type": "code",
   "execution_count": 22,
   "id": "70982e08",
   "metadata": {},
   "outputs": [
    {
     "name": "stdout",
     "output_type": "stream",
     "text": [
      "0.4772725975713844\n"
     ]
    }
   ],
   "source": [
    "#FV of CoNC\n",
    "print(N(d2(S=S0, K=S0, T=T, r=r, q=y, sigma=sigma_atm)))"
   ]
  },
  {
   "cell_type": "code",
   "execution_count": 28,
   "id": "36808d61",
   "metadata": {},
   "outputs": [
    {
     "name": "stdout",
     "output_type": "stream",
     "text": [
      "2181.978862861596\n"
     ]
    }
   ],
   "source": [
    "#iii AoNC\n",
    "def AoNC(S, K, T, r, q, sigma):\n",
    "    d1_ = d1(S, K, T, r, q, sigma)\n",
    "    return S*np.exp(-r*T)* N(d1_)\n",
    "#PV of AoNC\n",
    "print(AoNC(S=S0, K=S0, T=T, r=r, q=y, sigma=sigma_atm))"
   ]
  },
  {
   "cell_type": "markdown",
   "id": "c805c61c",
   "metadata": {},
   "source": [
    "#### Here intuition is kind of \"probability\" is higher as payoffs are not symmetric"
   ]
  },
  {
   "cell_type": "code",
   "execution_count": 31,
   "id": "3f2ca07f",
   "metadata": {},
   "outputs": [
    {
     "name": "stdout",
     "output_type": "stream",
     "text": [
      "0.5765205159555054\n"
     ]
    }
   ],
   "source": [
    "#FV of quasi-prob for AoNC (mult by S0 gives AoNC)\n",
    "print(N(d1(S=S0, K=S0, T=T, r=r, q=y, sigma=sigma_atm)))"
   ]
  },
  {
   "cell_type": "code",
   "execution_count": null,
   "id": "bd5cde68",
   "metadata": {},
   "outputs": [],
   "source": []
  }
 ],
 "metadata": {
  "kernelspec": {
   "display_name": "Python 3 (ipykernel)",
   "language": "python",
   "name": "python3"
  },
  "language_info": {
   "codemirror_mode": {
    "name": "ipython",
    "version": 3
   },
   "file_extension": ".py",
   "mimetype": "text/x-python",
   "name": "python",
   "nbconvert_exporter": "python",
   "pygments_lexer": "ipython3",
   "version": "3.9.7"
  }
 },
 "nbformat": 4,
 "nbformat_minor": 5
}
